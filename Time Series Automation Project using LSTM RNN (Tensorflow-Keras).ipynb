{
 "cells": [
  {
   "cell_type": "markdown",
   "metadata": {},
   "source": [
    "### IMPORT NECESSARY LIBRARIES "
   ]
  },
  {
   "cell_type": "code",
   "execution_count": 2,
   "metadata": {},
   "outputs": [],
   "source": [
    "import numpy as np\n",
    "import matplotlib.pyplot as plt\n",
    "import pandas as pd\n",
    "pd.set_option('display.float_format', lambda x: '%.4f' % x)\n",
    "import seaborn as sns\n",
    "sns.set_context(\"paper\", font_scale=1.3)\n",
    "sns.set_style('white')\n",
    "import warnings\n",
    "warnings.filterwarnings('ignore')\n",
    "from time import time\n",
    "import matplotlib.ticker as tkr\n",
    "from scipy import stats\n",
    "from statsmodels.tsa.stattools import adfuller\n",
    "from sklearn import preprocessing\n",
    "from statsmodels.tsa.stattools import pacf\n",
    "%matplotlib inline\n",
    "import math\n",
    "import keras\n",
    "from keras.models import Sequential\n",
    "from keras.layers import Dense\n",
    "from keras.layers import LSTM\n",
    "from keras.layers import Dropout\n",
    "from keras.layers import *\n",
    "from sklearn.preprocessing import MinMaxScaler\n",
    "from sklearn.metrics import mean_squared_error\n",
    "from sklearn.metrics import mean_absolute_error\n",
    "from keras.callbacks import EarlyStopping"
   ]
  },
  {
   "cell_type": "code",
   "execution_count": 3,
   "metadata": {},
   "outputs": [
    {
     "name": "stdout",
     "output_type": "stream",
     "text": [
      "2.0.0\n"
     ]
    }
   ],
   "source": [
    "import tensorflow as tf\n",
    "print(tf.__version__)"
   ]
  },
  {
   "cell_type": "code",
   "execution_count": 4,
   "metadata": {},
   "outputs": [
    {
     "data": {
      "text/html": [
       "<div>\n",
       "<style scoped>\n",
       "    .dataframe tbody tr th:only-of-type {\n",
       "        vertical-align: middle;\n",
       "    }\n",
       "\n",
       "    .dataframe tbody tr th {\n",
       "        vertical-align: top;\n",
       "    }\n",
       "\n",
       "    .dataframe thead th {\n",
       "        text-align: right;\n",
       "    }\n",
       "</style>\n",
       "<table border=\"1\" class=\"dataframe\">\n",
       "  <thead>\n",
       "    <tr style=\"text-align: right;\">\n",
       "      <th></th>\n",
       "      <th>date</th>\n",
       "      <th>close</th>\n",
       "      <th>Name</th>\n",
       "    </tr>\n",
       "  </thead>\n",
       "  <tbody>\n",
       "    <tr>\n",
       "      <th>0</th>\n",
       "      <td>2/8/2013</td>\n",
       "      <td>14.7500</td>\n",
       "      <td>AAL</td>\n",
       "    </tr>\n",
       "    <tr>\n",
       "      <th>1</th>\n",
       "      <td>2/11/2013</td>\n",
       "      <td>14.4600</td>\n",
       "      <td>AAL</td>\n",
       "    </tr>\n",
       "    <tr>\n",
       "      <th>2</th>\n",
       "      <td>2/12/2013</td>\n",
       "      <td>14.2700</td>\n",
       "      <td>AAL</td>\n",
       "    </tr>\n",
       "  </tbody>\n",
       "</table>\n",
       "</div>"
      ],
      "text/plain": [
       "        date   close Name\n",
       "0   2/8/2013 14.7500  AAL\n",
       "1  2/11/2013 14.4600  AAL\n",
       "2  2/12/2013 14.2700  AAL"
      ]
     },
     "execution_count": 4,
     "metadata": {},
     "output_type": "execute_result"
    }
   ],
   "source": [
    "df = pd.read_csv('all_stocks_5yr.csv')\n",
    "df.head(3)"
   ]
  },
  {
   "cell_type": "code",
   "execution_count": 5,
   "metadata": {
    "scrolled": true
   },
   "outputs": [
    {
     "name": "stdout",
     "output_type": "stream",
     "text": [
      "<class 'pandas.core.frame.DataFrame'>\n",
      "RangeIndex: 619040 entries, 0 to 619039\n",
      "Data columns (total 3 columns):\n",
      " #   Column  Non-Null Count   Dtype  \n",
      "---  ------  --------------   -----  \n",
      " 0   date    619040 non-null  object \n",
      " 1   close   619040 non-null  float64\n",
      " 2   Name    619040 non-null  object \n",
      "dtypes: float64(1), object(2)\n",
      "memory usage: 14.2+ MB\n"
     ]
    }
   ],
   "source": [
    "df.info()"
   ]
  },
  {
   "cell_type": "code",
   "execution_count": 6,
   "metadata": {},
   "outputs": [],
   "source": [
    "# convert date column into 'date' format\n",
    "df.date = pd.to_datetime(df.date)"
   ]
  },
  {
   "cell_type": "markdown",
   "metadata": {},
   "source": [
    "### BEFORE AUTOMATION  - TRAIN AN LSTM MODEL WITH A SINGLE RANDOMLY CHOSEN STOCK -"
   ]
  },
  {
   "cell_type": "code",
   "execution_count": 106,
   "metadata": {},
   "outputs": [],
   "source": [
    "#Randomly choose a stock to train the model - let's select 'ADBE'\n",
    "df1 = df[df['Name']== 'ADBE']"
   ]
  },
  {
   "cell_type": "code",
   "execution_count": 107,
   "metadata": {},
   "outputs": [],
   "source": [
    "df2 = df1.drop(columns=['Name'])"
   ]
  },
  {
   "cell_type": "code",
   "execution_count": 108,
   "metadata": {},
   "outputs": [
    {
     "data": {
      "text/html": [
       "<div>\n",
       "<style scoped>\n",
       "    .dataframe tbody tr th:only-of-type {\n",
       "        vertical-align: middle;\n",
       "    }\n",
       "\n",
       "    .dataframe tbody tr th {\n",
       "        vertical-align: top;\n",
       "    }\n",
       "\n",
       "    .dataframe thead th {\n",
       "        text-align: right;\n",
       "    }\n",
       "</style>\n",
       "<table border=\"1\" class=\"dataframe\">\n",
       "  <thead>\n",
       "    <tr style=\"text-align: right;\">\n",
       "      <th></th>\n",
       "      <th>close</th>\n",
       "    </tr>\n",
       "    <tr>\n",
       "      <th>date</th>\n",
       "      <th></th>\n",
       "    </tr>\n",
       "  </thead>\n",
       "  <tbody>\n",
       "    <tr>\n",
       "      <th>2018-02-05</th>\n",
       "      <td>190.2700</td>\n",
       "    </tr>\n",
       "    <tr>\n",
       "      <th>2018-02-06</th>\n",
       "      <td>194.4700</td>\n",
       "    </tr>\n",
       "    <tr>\n",
       "      <th>2018-02-07</th>\n",
       "      <td>192.3400</td>\n",
       "    </tr>\n",
       "  </tbody>\n",
       "</table>\n",
       "</div>"
      ],
      "text/plain": [
       "              close\n",
       "date               \n",
       "2018-02-05 190.2700\n",
       "2018-02-06 194.4700\n",
       "2018-02-07 192.3400"
      ]
     },
     "execution_count": 108,
     "metadata": {},
     "output_type": "execute_result"
    }
   ],
   "source": [
    "df2 = df2.set_index('date')\n",
    "df2.tail(3)"
   ]
  },
  {
   "cell_type": "code",
   "execution_count": 15,
   "metadata": {},
   "outputs": [],
   "source": [
    "# Create a function to generate dataset for LSTM model\n",
    "def create_dataset(dataset, look_back=1):\n",
    "    X, Y = [], []\n",
    "    for i in range(len(dataset)-look_back-1):\n",
    "        a = dataset[i:(i+look_back), 0]\n",
    "        X.append(a)\n",
    "        Y.append(dataset[i + look_back, 0])\n",
    "    return np.array(X), np.array(Y)"
   ]
  },
  {
   "cell_type": "code",
   "execution_count": 75,
   "metadata": {},
   "outputs": [],
   "source": [
    "# Prepare the data before establishing the model\n",
    "dataset = df2.close.values #numpy.ndarray\n",
    "dataset = dataset.astype('float32')\n",
    "dataset = np.reshape(dataset, (-1, 1))\n",
    "scaler = MinMaxScaler(feature_range=(0, 1))\n",
    "dataset = scaler.fit_transform(dataset)\n",
    "train_size = int(len(dataset) * 0.80)\n",
    "test_size = len(dataset) - train_size\n",
    "train, test = dataset[0:train_size,:], dataset[train_size:len(dataset),:]\n",
    "  \n",
    "look_back = 10\n",
    "X_train, Y_train = create_dataset(train, look_back)\n",
    "X_test, Y_test = create_dataset(test, look_back)\n",
    "\n",
    "# reshape input to be [samples, time steps, features]\n",
    "X_train = np.reshape(X_train, (X_train.shape[0], 1, X_train.shape[1]))\n",
    "X_test = np.reshape(X_test, (X_test.shape[0], 1, X_test.shape[1]))"
   ]
  },
  {
   "cell_type": "code",
   "execution_count": 76,
   "metadata": {},
   "outputs": [],
   "source": [
    "# Establish the model\n",
    "model = Sequential()\n",
    "model.add(LSTM(64,input_shape=(X_train.shape[1], X_train.shape[2])))\n",
    "model.add(Dropout(0.2))\n",
    "\n",
    "model.add(Dense(1))\n",
    "model.compile(loss='mean_squared_error', optimizer='adam')\n",
    "\n",
    "history = model.fit(X_train, Y_train, epochs=500, batch_size=30, validation_data=(X_test, Y_test), \n",
    "                    callbacks=[EarlyStopping(monitor='val_loss', patience=20)], verbose=0)\n"
   ]
  },
  {
   "cell_type": "code",
   "execution_count": 77,
   "metadata": {},
   "outputs": [
    {
     "name": "stdout",
     "output_type": "stream",
     "text": [
      "Train Mean Absolute Error: 0.45578384\n",
      "Train Root Mean Squared Error: 0.45578384\n",
      "Test Mean Absolute Error: 0.0038833618\n",
      "Test Root Mean Squared Error: 0.0038833618\n"
     ]
    }
   ],
   "source": [
    "# Prediction Results\n",
    "train_predict = model.predict(X_train)\n",
    "test_predict = model.predict(X_test)\n",
    "# invert predictions\n",
    "train_predict = scaler.inverse_transform(train_predict)\n",
    "Y_train = scaler.inverse_transform(Y_train.reshape(-1,1))\n",
    "test_predict = scaler.inverse_transform(test_predict)\n",
    "Y_test = scaler.inverse_transform(Y_test.reshape(-1,1))\n",
    "print('Train Mean Absolute Error:', mean_absolute_error(Y_train[0], train_predict[0]))\n",
    "print('Train Root Mean Squared Error:',np.sqrt(mean_squared_error(Y_train[0], train_predict[0])))\n",
    "print('Test Mean Absolute Error:', mean_absolute_error(Y_test[0], test_predict[0]))\n",
    "print('Test Root Mean Squared Error:',np.sqrt(mean_squared_error(Y_test[0], test_predict[0])))"
   ]
  },
  {
   "cell_type": "code",
   "execution_count": 78,
   "metadata": {},
   "outputs": [
    {
     "data": {
      "text/plain": [
       "<matplotlib.legend.Legend at 0x1469d3bbac8>"
      ]
     },
     "execution_count": 78,
     "metadata": {},
     "output_type": "execute_result"
    },
    {
     "data": {
      "image/png": "[encoded data removed]",
      "text/plain": [
       "<Figure size 1080x504 with 1 Axes>"
      ]
     },
     "metadata": {
      "needs_background": "light"
     },
     "output_type": "display_data"
    }
   ],
   "source": [
    "# TRAIN-TEST ERROR ASSESSMENT (It seems model starts to balance its accuracy after ~30th epoch)\n",
    "plt.figure(figsize=(15,7))\n",
    "plt.plot(history.history['loss'], label='train')\n",
    "plt.plot(history.history['val_loss'], label='test')\n",
    "plt.legend(fontsize=15)"
   ]
  },
  {
   "cell_type": "code",
   "execution_count": 79,
   "metadata": {},
   "outputs": [
    {
     "data": {
      "text/plain": [
       "<matplotlib.legend.Legend at 0x14673ec3908>"
      ]
     },
     "execution_count": 79,
     "metadata": {},
     "output_type": "execute_result"
    },
    {
     "data": {
      "image/png": "[encoded data removed]",
      "text/plain": [
       "<Figure size 1080x504 with 1 Axes>"
      ]
     },
     "metadata": {
      "needs_background": "light"
     },
     "output_type": "display_data"
    }
   ],
   "source": [
    "# GRAPH CREATION (test vs trained model) - It seems there is a great fit!\n",
    "test_actual = pd.DataFrame(Y_test)\n",
    "test_actual = test_actual.rename(columns={0: 'Actual'})\n",
    "test_prediction = pd.DataFrame(test_predict)\n",
    "test_prediction = test_prediction.rename(columns={0: 'Prediction'})\n",
    "graph =  pd.concat([test_actual, test_prediction], axis=1, sort=False)\n",
    "# SETTINGS\n",
    "plt.figure(figsize=(15,7))\n",
    "plt.plot(graph.Actual,label=\"Actual (Test)\")\n",
    "plt.plot(graph.Prediction,label=\"Prediction\")\n",
    "plt.legend(fontsize=15)"
   ]
  },
  {
   "cell_type": "code",
   "execution_count": 80,
   "metadata": {},
   "outputs": [
    {
     "name": "stdout",
     "output_type": "stream",
     "text": [
      "[[197.51]\n",
      " [201.3 ]\n",
      " [198.23]\n",
      " [196.9 ]\n",
      " [199.76]\n",
      " [199.38]\n",
      " [195.64]\n",
      " [190.27]\n",
      " [194.47]\n",
      " [192.34]]\n",
      "[[192.64764]]\n"
     ]
    },
    {
     "data": {
      "text/plain": [
       "(None, None)"
      ]
     },
     "execution_count": 80,
     "metadata": {},
     "output_type": "execute_result"
    }
   ],
   "source": [
    "### EXAMPLE - HOW TO PREDICT FUTURE? (NEXT 1 DAY)\n",
    "new = df2.iloc[-look_back:,:]\n",
    "data_new = scaler.fit_transform(new)\n",
    "data_new = np.array(data_new)\n",
    "\n",
    "xyz = np.reshape(data_new, (1, 1, look_back))\n",
    "xyz = model.predict_on_batch(xyz)\n",
    "future_prediction = scaler.inverse_transform(xyz)\n",
    "print(scaler.inverse_transform(data_new)),print(future_prediction)"
   ]
  },
  {
   "cell_type": "markdown",
   "metadata": {},
   "source": [
    "### AUTOMATION"
   ]
  },
  {
   "cell_type": "code",
   "execution_count": 17,
   "metadata": {},
   "outputs": [],
   "source": [
    "# AUTOMATION (adjustment 1)\n",
    "\n",
    "# PERIOD SELECTION FOR TESTS ( let's go ahead with a 2-year data)\n",
    "# A randomly chosen time frame\n",
    "start_date = '2015-07-06'\n",
    "before_prediction_date = '2017-07-06'     # must be same #\n",
    "target_prediction_day = '2017-07-07'\n",
    "\n",
    "period_ends = before_prediction_date          # must be same #\n",
    "prediod_begins = '2017-06-22'"
   ]
  },
  {
   "cell_type": "code",
   "execution_count": 18,
   "metadata": {},
   "outputs": [
    {
     "data": {
      "text/plain": [
       "507"
      ]
     },
     "execution_count": 18,
     "metadata": {},
     "output_type": "execute_result"
    }
   ],
   "source": [
    "# Data filtering based on the selected date interval\n",
    "df2 = df[(df.date >= start_date) & (df.date <= target_prediction_day)]\n",
    "count_of_train_days = df2['date'].nunique()\n",
    "count_of_train_days"
   ]
  },
  {
   "cell_type": "code",
   "execution_count": 19,
   "metadata": {},
   "outputs": [],
   "source": [
    "# AUTOMATION (adjustment 2)\n",
    "# This will be a 1 day forward prediction \n",
    "train_day_count = count_of_train_days -1\n",
    "predict_day_count = 1 "
   ]
  },
  {
   "cell_type": "code",
   "execution_count": 20,
   "metadata": {},
   "outputs": [
    {
     "data": {
      "text/plain": [
       "491"
      ]
     },
     "execution_count": 20,
     "metadata": {},
     "output_type": "execute_result"
    }
   ],
   "source": [
    "# Data Manipulation to \n",
    "df3 = df2.pivot(index='date',columns = 'Name', values = 'close')\n",
    "NAColumns = df3.columns[df3.isna().any()].tolist()\n",
    "df3 = df3.drop(NAColumns,axis=1)\n",
    "stock_count = len(df3.columns)\n",
    "stock_count"
   ]
  },
  {
   "cell_type": "code",
   "execution_count": 22,
   "metadata": {},
   "outputs": [
    {
     "name": "stdout",
     "output_type": "stream",
     "text": [
      "date\n",
      "2017-06-22   60.6100\n",
      "2017-06-23   59.7700\n",
      "2017-06-26   59.2400\n",
      "2017-06-27   58.8800\n",
      "2017-06-28   59.4000\n",
      "2017-06-29   58.8000\n",
      "2017-06-30   59.3100\n",
      "2017-07-03   59.1300\n",
      "2017-07-05   59.7700\n",
      "2017-07-06   59.2200\n",
      "Name: A, dtype: float64\n",
      "10\n"
     ]
    }
   ],
   "source": [
    "# PERIOD CHECK (THIS MUST BE EQUAL TO LOOK BACK)\n",
    "print(df3.loc[prediod_begins:period_ends,:].iloc[:,0])  # only first column \n",
    "print(len(df3.loc[prediod_begins:period_ends,]))"
   ]
  },
  {
   "cell_type": "code",
   "execution_count": 23,
   "metadata": {},
   "outputs": [
    {
     "data": {
      "text/html": [
       "<div>\n",
       "<style scoped>\n",
       "    .dataframe tbody tr th:only-of-type {\n",
       "        vertical-align: middle;\n",
       "    }\n",
       "\n",
       "    .dataframe tbody tr th {\n",
       "        vertical-align: top;\n",
       "    }\n",
       "\n",
       "    .dataframe thead th {\n",
       "        text-align: right;\n",
       "    }\n",
       "</style>\n",
       "<table border=\"1\" class=\"dataframe\">\n",
       "  <thead>\n",
       "    <tr style=\"text-align: right;\">\n",
       "      <th>Name</th>\n",
       "      <th>JNPR</th>\n",
       "      <th>JPM</th>\n",
       "      <th>JWN</th>\n",
       "      <th>K</th>\n",
       "      <th>KEY</th>\n",
       "      <th>KHC</th>\n",
       "      <th>KIM</th>\n",
       "      <th>KLAC</th>\n",
       "      <th>KMB</th>\n",
       "      <th>KMI</th>\n",
       "      <th>...</th>\n",
       "      <th>MCHP</th>\n",
       "      <th>MCK</th>\n",
       "      <th>MCO</th>\n",
       "      <th>MDLZ</th>\n",
       "      <th>MDT</th>\n",
       "      <th>MET</th>\n",
       "      <th>MGM</th>\n",
       "      <th>MHK</th>\n",
       "      <th>MKC</th>\n",
       "      <th>MLM</th>\n",
       "    </tr>\n",
       "    <tr>\n",
       "      <th>date</th>\n",
       "      <th></th>\n",
       "      <th></th>\n",
       "      <th></th>\n",
       "      <th></th>\n",
       "      <th></th>\n",
       "      <th></th>\n",
       "      <th></th>\n",
       "      <th></th>\n",
       "      <th></th>\n",
       "      <th></th>\n",
       "      <th></th>\n",
       "      <th></th>\n",
       "      <th></th>\n",
       "      <th></th>\n",
       "      <th></th>\n",
       "      <th></th>\n",
       "      <th></th>\n",
       "      <th></th>\n",
       "      <th></th>\n",
       "      <th></th>\n",
       "      <th></th>\n",
       "    </tr>\n",
       "  </thead>\n",
       "  <tbody>\n",
       "    <tr>\n",
       "      <th>2017-07-05</th>\n",
       "      <td>28.1800</td>\n",
       "      <td>93.6800</td>\n",
       "      <td>48.1200</td>\n",
       "      <td>67.7000</td>\n",
       "      <td>19.2000</td>\n",
       "      <td>83.7900</td>\n",
       "      <td>17.8500</td>\n",
       "      <td>92.2900</td>\n",
       "      <td>128.6600</td>\n",
       "      <td>19.3100</td>\n",
       "      <td>...</td>\n",
       "      <td>77.9400</td>\n",
       "      <td>165.2700</td>\n",
       "      <td>123.9800</td>\n",
       "      <td>43.1200</td>\n",
       "      <td>88.9000</td>\n",
       "      <td>55.8900</td>\n",
       "      <td>30.9800</td>\n",
       "      <td>243.7600</td>\n",
       "      <td>96.7500</td>\n",
       "      <td>226.8400</td>\n",
       "    </tr>\n",
       "    <tr>\n",
       "      <th>2017-07-06</th>\n",
       "      <td>27.7900</td>\n",
       "      <td>93.3800</td>\n",
       "      <td>47.3800</td>\n",
       "      <td>66.5500</td>\n",
       "      <td>19.0000</td>\n",
       "      <td>82.8200</td>\n",
       "      <td>17.9600</td>\n",
       "      <td>92.4800</td>\n",
       "      <td>126.3800</td>\n",
       "      <td>19.1300</td>\n",
       "      <td>...</td>\n",
       "      <td>77.1200</td>\n",
       "      <td>163.0800</td>\n",
       "      <td>122.1700</td>\n",
       "      <td>43.0600</td>\n",
       "      <td>87.2600</td>\n",
       "      <td>55.8800</td>\n",
       "      <td>30.3000</td>\n",
       "      <td>241.6700</td>\n",
       "      <td>95.7400</td>\n",
       "      <td>226.0000</td>\n",
       "    </tr>\n",
       "    <tr>\n",
       "      <th>2017-07-07</th>\n",
       "      <td>28.4500</td>\n",
       "      <td>93.8500</td>\n",
       "      <td>47.5400</td>\n",
       "      <td>66.5200</td>\n",
       "      <td>19.2200</td>\n",
       "      <td>83.0400</td>\n",
       "      <td>18.4300</td>\n",
       "      <td>94.5700</td>\n",
       "      <td>126.8000</td>\n",
       "      <td>19.1700</td>\n",
       "      <td>...</td>\n",
       "      <td>78.3600</td>\n",
       "      <td>164.6800</td>\n",
       "      <td>123.4200</td>\n",
       "      <td>43.2200</td>\n",
       "      <td>87.9600</td>\n",
       "      <td>56.1700</td>\n",
       "      <td>30.8400</td>\n",
       "      <td>245.7500</td>\n",
       "      <td>95.7500</td>\n",
       "      <td>227.9000</td>\n",
       "    </tr>\n",
       "  </tbody>\n",
       "</table>\n",
       "<p>3 rows × 50 columns</p>\n",
       "</div>"
      ],
      "text/plain": [
       "Name          JNPR     JPM     JWN       K     KEY     KHC     KIM    KLAC  \\\n",
       "date                                                                         \n",
       "2017-07-05 28.1800 93.6800 48.1200 67.7000 19.2000 83.7900 17.8500 92.2900   \n",
       "2017-07-06 27.7900 93.3800 47.3800 66.5500 19.0000 82.8200 17.9600 92.4800   \n",
       "2017-07-07 28.4500 93.8500 47.5400 66.5200 19.2200 83.0400 18.4300 94.5700   \n",
       "\n",
       "Name            KMB     KMI  ...    MCHP      MCK      MCO    MDLZ     MDT  \\\n",
       "date                         ...                                             \n",
       "2017-07-05 128.6600 19.3100  ... 77.9400 165.2700 123.9800 43.1200 88.9000   \n",
       "2017-07-06 126.3800 19.1300  ... 77.1200 163.0800 122.1700 43.0600 87.2600   \n",
       "2017-07-07 126.8000 19.1700  ... 78.3600 164.6800 123.4200 43.2200 87.9600   \n",
       "\n",
       "Name           MET     MGM      MHK     MKC      MLM  \n",
       "date                                                  \n",
       "2017-07-05 55.8900 30.9800 243.7600 96.7500 226.8400  \n",
       "2017-07-06 55.8800 30.3000 241.6700 95.7400 226.0000  \n",
       "2017-07-07 56.1700 30.8400 245.7500 95.7500 227.9000  \n",
       "\n",
       "[3 rows x 50 columns]"
      ]
     },
     "execution_count": 23,
     "metadata": {},
     "output_type": "execute_result"
    }
   ],
   "source": [
    "# choose as much stock as you want (lets go ahead with 50 randomly chosen stocks)\n",
    "df3 = df3.iloc[:,250:300]\n",
    "df3.tail(3)"
   ]
  },
  {
   "cell_type": "code",
   "execution_count": 24,
   "metadata": {},
   "outputs": [],
   "source": [
    "### FOR LOOP TO POPULATE PREDICTIONS FOR EACH STOCK ###\n",
    "\n",
    "a = []\n",
    "upper = len(df3.columns)\n",
    "for x in range(0,upper):\n",
    "    \n",
    "    \n",
    "    # DATA PREPARATION PHASE\n",
    "    df6  = pd.DataFrame(df3.iloc[:,x]) ### dataset  = pd.DataFrame(df3.iloc[:,x])\n",
    "    dataset = df6.iloc[0:train_day_count,:].values ### dataset = dataset1.iloc[:,0].values#numpy.ndarray \n",
    "    dataset = dataset.astype('float32')\n",
    "    dataset = np.reshape(dataset, (-1, 1))\n",
    "    scaler = MinMaxScaler(feature_range=(0, 1))\n",
    "    dataset = scaler.fit_transform(dataset)\n",
    "    train_size = int(len(dataset) * 0.80)\n",
    "    test_size = len(dataset) - train_size\n",
    "    train, test = dataset[0:train_size,:], dataset[train_size:len(dataset),:]\n",
    "    \n",
    "    # create datasets for model  \n",
    "    look_back = 10\n",
    "    X_train, Y_train = create_dataset(train, look_back)\n",
    "    X_test, Y_test = create_dataset(test, look_back)\n",
    "\n",
    "    # reshape input to be [samples, time steps, features]\n",
    "    X_train = np.reshape(X_train, (X_train.shape[0], 1, X_train.shape[1]))\n",
    "    X_test = np.reshape(X_test, (X_test.shape[0], 1, X_test.shape[1]))\n",
    "\n",
    "    # MODEL PHASE\n",
    "    model = Sequential()\n",
    "    model.add(LSTM(64, input_shape=(X_train.shape[1], X_train.shape[2])))\n",
    "    model.add(Dropout(0.2))\n",
    "    model.add(Dense(1))\n",
    "    model.compile(loss='mean_squared_error', optimizer='adam')\n",
    "\n",
    "    history = model.fit(X_train, Y_train, epochs=500, batch_size=30, validation_data=(X_test, Y_test), \n",
    "                    callbacks=[EarlyStopping(monitor='val_loss', patience=20)], verbose=0)\n",
    "    #model.summary()\n",
    "    \n",
    "    ### PREDICTION    --- To predict future NEXT 1 DAY) --- new = dataset.iloc[-look_back:,:]\n",
    "    new = df6.loc[prediod_begins:period_ends,:]\n",
    "    data_new = scaler.fit_transform(new)\n",
    "    data_new = np.array(data_new)\n",
    "\n",
    "    xyz = np.reshape(data_new, (1, 1, look_back))\n",
    "    xyz = model.predict_on_batch(xyz)\n",
    "    future_prediction = scaler.inverse_transform(xyz)\n",
    "    \n",
    "    ### POPULATING RESULTS\n",
    "    a.append(future_prediction)"
   ]
  },
  {
   "cell_type": "code",
   "execution_count": 25,
   "metadata": {},
   "outputs": [
    {
     "data": {
      "text/html": [
       "<div>\n",
       "<style scoped>\n",
       "    .dataframe tbody tr th:only-of-type {\n",
       "        vertical-align: middle;\n",
       "    }\n",
       "\n",
       "    .dataframe tbody tr th {\n",
       "        vertical-align: top;\n",
       "    }\n",
       "\n",
       "    .dataframe thead th {\n",
       "        text-align: right;\n",
       "    }\n",
       "</style>\n",
       "<table border=\"1\" class=\"dataframe\">\n",
       "  <thead>\n",
       "    <tr style=\"text-align: right;\">\n",
       "      <th></th>\n",
       "      <th>Predictions</th>\n",
       "    </tr>\n",
       "  </thead>\n",
       "  <tbody>\n",
       "    <tr>\n",
       "      <th>0</th>\n",
       "      <td>27.8911</td>\n",
       "    </tr>\n",
       "    <tr>\n",
       "      <th>1</th>\n",
       "      <td>93.5290</td>\n",
       "    </tr>\n",
       "    <tr>\n",
       "      <th>2</th>\n",
       "      <td>47.5791</td>\n",
       "    </tr>\n",
       "  </tbody>\n",
       "</table>\n",
       "</div>"
      ],
      "text/plain": [
       "   Predictions\n",
       "0      27.8911\n",
       "1      93.5290\n",
       "2      47.5791"
      ]
     },
     "execution_count": 25,
     "metadata": {},
     "output_type": "execute_result"
    }
   ],
   "source": [
    "### Convert predictions into dataframe format\n",
    "a = np.array(a)\n",
    "a = a.flatten() \n",
    "a = pd.DataFrame(a)\n",
    "b = a.iloc[:,-1]\n",
    "b = b.values.tolist()\n",
    "prediction = pd.DataFrame(b,columns= [\"Predictions\"])\n",
    "prediction.head(3)"
   ]
  },
  {
   "cell_type": "code",
   "execution_count": 26,
   "metadata": {},
   "outputs": [
    {
     "data": {
      "text/html": [
       "<div>\n",
       "<style scoped>\n",
       "    .dataframe tbody tr th:only-of-type {\n",
       "        vertical-align: middle;\n",
       "    }\n",
       "\n",
       "    .dataframe tbody tr th {\n",
       "        vertical-align: top;\n",
       "    }\n",
       "\n",
       "    .dataframe thead th {\n",
       "        text-align: right;\n",
       "    }\n",
       "</style>\n",
       "<table border=\"1\" class=\"dataframe\">\n",
       "  <thead>\n",
       "    <tr style=\"text-align: right;\">\n",
       "      <th></th>\n",
       "      <th>date</th>\n",
       "      <th>Name</th>\n",
       "      <th>Actual Day</th>\n",
       "    </tr>\n",
       "  </thead>\n",
       "  <tbody>\n",
       "    <tr>\n",
       "      <th>0</th>\n",
       "      <td>2017-07-07</td>\n",
       "      <td>JNPR</td>\n",
       "      <td>28.4500</td>\n",
       "    </tr>\n",
       "    <tr>\n",
       "      <th>1</th>\n",
       "      <td>2017-07-07</td>\n",
       "      <td>JPM</td>\n",
       "      <td>93.8500</td>\n",
       "    </tr>\n",
       "    <tr>\n",
       "      <th>2</th>\n",
       "      <td>2017-07-07</td>\n",
       "      <td>JWN</td>\n",
       "      <td>47.5400</td>\n",
       "    </tr>\n",
       "  </tbody>\n",
       "</table>\n",
       "</div>"
      ],
      "text/plain": [
       "        date  Name  Actual Day\n",
       "0 2017-07-07  JNPR     28.4500\n",
       "1 2017-07-07   JPM     93.8500\n",
       "2 2017-07-07   JWN     47.5400"
      ]
     },
     "execution_count": 26,
     "metadata": {},
     "output_type": "execute_result"
    }
   ],
   "source": [
    "### Create Actuals (t) to make a performance assessment\n",
    "actuals  = df3.reset_index()[df3.reset_index()['date'] == target_prediction_day]\n",
    "actuals  = actuals.melt(id_vars = 'date')\n",
    "actuals = actuals.rename(columns={'value': 'Actual Day'})\n",
    "actuals.head(3)"
   ]
  },
  {
   "cell_type": "code",
   "execution_count": 27,
   "metadata": {},
   "outputs": [
    {
     "data": {
      "text/html": [
       "<div>\n",
       "<style scoped>\n",
       "    .dataframe tbody tr th:only-of-type {\n",
       "        vertical-align: middle;\n",
       "    }\n",
       "\n",
       "    .dataframe tbody tr th {\n",
       "        vertical-align: top;\n",
       "    }\n",
       "\n",
       "    .dataframe thead th {\n",
       "        text-align: right;\n",
       "    }\n",
       "</style>\n",
       "<table border=\"1\" class=\"dataframe\">\n",
       "  <thead>\n",
       "    <tr style=\"text-align: right;\">\n",
       "      <th></th>\n",
       "      <th>date</th>\n",
       "      <th>Name</th>\n",
       "      <th>Previous Day</th>\n",
       "    </tr>\n",
       "  </thead>\n",
       "  <tbody>\n",
       "    <tr>\n",
       "      <th>0</th>\n",
       "      <td>2017-07-06</td>\n",
       "      <td>JNPR</td>\n",
       "      <td>27.7900</td>\n",
       "    </tr>\n",
       "    <tr>\n",
       "      <th>1</th>\n",
       "      <td>2017-07-06</td>\n",
       "      <td>JPM</td>\n",
       "      <td>93.3800</td>\n",
       "    </tr>\n",
       "    <tr>\n",
       "      <th>2</th>\n",
       "      <td>2017-07-06</td>\n",
       "      <td>JWN</td>\n",
       "      <td>47.3800</td>\n",
       "    </tr>\n",
       "  </tbody>\n",
       "</table>\n",
       "</div>"
      ],
      "text/plain": [
       "        date  Name  Previous Day\n",
       "0 2017-07-06  JNPR       27.7900\n",
       "1 2017-07-06   JPM       93.3800\n",
       "2 2017-07-06   JWN       47.3800"
      ]
     },
     "execution_count": 27,
     "metadata": {},
     "output_type": "execute_result"
    }
   ],
   "source": [
    "### Create Actuals (t-1) to make a performance assessment\n",
    "previous  = df3.reset_index()[df3.reset_index()['date'] == period_ends]\n",
    "previous  = previous.melt(id_vars = 'date')\n",
    "previous = previous.rename(columns={'value': 'Previous Day'})\n",
    "previous.head(3)"
   ]
  },
  {
   "cell_type": "code",
   "execution_count": 28,
   "metadata": {},
   "outputs": [
    {
     "data": {
      "text/html": [
       "<div>\n",
       "<style scoped>\n",
       "    .dataframe tbody tr th:only-of-type {\n",
       "        vertical-align: middle;\n",
       "    }\n",
       "\n",
       "    .dataframe tbody tr th {\n",
       "        vertical-align: top;\n",
       "    }\n",
       "\n",
       "    .dataframe thead th {\n",
       "        text-align: right;\n",
       "    }\n",
       "</style>\n",
       "<table border=\"1\" class=\"dataframe\">\n",
       "  <thead>\n",
       "    <tr style=\"text-align: right;\">\n",
       "      <th></th>\n",
       "      <th>date_x</th>\n",
       "      <th>Name</th>\n",
       "      <th>Previous Day</th>\n",
       "      <th>Actual Day</th>\n",
       "      <th>Predictions</th>\n",
       "    </tr>\n",
       "  </thead>\n",
       "  <tbody>\n",
       "    <tr>\n",
       "      <th>0</th>\n",
       "      <td>2017-07-06</td>\n",
       "      <td>JNPR</td>\n",
       "      <td>27.7900</td>\n",
       "      <td>28.4500</td>\n",
       "      <td>27.8911</td>\n",
       "    </tr>\n",
       "    <tr>\n",
       "      <th>1</th>\n",
       "      <td>2017-07-06</td>\n",
       "      <td>JPM</td>\n",
       "      <td>93.3800</td>\n",
       "      <td>93.8500</td>\n",
       "      <td>93.5290</td>\n",
       "    </tr>\n",
       "    <tr>\n",
       "      <th>2</th>\n",
       "      <td>2017-07-06</td>\n",
       "      <td>JWN</td>\n",
       "      <td>47.3800</td>\n",
       "      <td>47.5400</td>\n",
       "      <td>47.5791</td>\n",
       "    </tr>\n",
       "  </tbody>\n",
       "</table>\n",
       "</div>"
      ],
      "text/plain": [
       "      date_x  Name  Previous Day  Actual Day  Predictions\n",
       "0 2017-07-06  JNPR       27.7900     28.4500      27.8911\n",
       "1 2017-07-06   JPM       93.3800     93.8500      93.5290\n",
       "2 2017-07-06   JWN       47.3800     47.5400      47.5791"
      ]
     },
     "execution_count": 28,
     "metadata": {},
     "output_type": "execute_result"
    }
   ],
   "source": [
    "# Combine t & t-1\n",
    "combined = previous.merge(actuals, left_on='Name', right_on='Name')\n",
    "combined = combined.drop('date_y',axis=1)\n",
    "combined =  pd.concat([combined, prediction], axis=1, sort=False)\n",
    "combined.head(3)"
   ]
  },
  {
   "cell_type": "code",
   "execution_count": 29,
   "metadata": {},
   "outputs": [],
   "source": [
    "# Combine dataframes\n",
    "Actual_Change = ((combined[\"Actual Day\"] - combined[\"Previous Day\"]) / (combined[\"Previous Day\"])) * 100\n",
    "combined[\"Actual Change %\"] = Actual_Change\n",
    "Predicted_Change = ((combined[\"Predictions\"] - combined[\"Previous Day\"]) / (combined[\"Previous Day\"])) * 100\n",
    "combined[\"Predicted Change %\"] = Predicted_Change"
   ]
  },
  {
   "cell_type": "code",
   "execution_count": 30,
   "metadata": {},
   "outputs": [
    {
     "data": {
      "text/html": [
       "<div>\n",
       "<style scoped>\n",
       "    .dataframe tbody tr th:only-of-type {\n",
       "        vertical-align: middle;\n",
       "    }\n",
       "\n",
       "    .dataframe tbody tr th {\n",
       "        vertical-align: top;\n",
       "    }\n",
       "\n",
       "    .dataframe thead th {\n",
       "        text-align: right;\n",
       "    }\n",
       "</style>\n",
       "<table border=\"1\" class=\"dataframe\">\n",
       "  <thead>\n",
       "    <tr style=\"text-align: right;\">\n",
       "      <th></th>\n",
       "      <th>date_x</th>\n",
       "      <th>Name</th>\n",
       "      <th>Previous Day</th>\n",
       "      <th>Actual Day</th>\n",
       "      <th>Predictions</th>\n",
       "      <th>Actual Change %</th>\n",
       "      <th>Predicted Change %</th>\n",
       "    </tr>\n",
       "  </thead>\n",
       "  <tbody>\n",
       "    <tr>\n",
       "      <th>0</th>\n",
       "      <td>2017-07-06</td>\n",
       "      <td>JNPR</td>\n",
       "      <td>27.7900</td>\n",
       "      <td>28.4500</td>\n",
       "      <td>27.8911</td>\n",
       "      <td>2.3750</td>\n",
       "      <td>0.3638</td>\n",
       "    </tr>\n",
       "    <tr>\n",
       "      <th>1</th>\n",
       "      <td>2017-07-06</td>\n",
       "      <td>JPM</td>\n",
       "      <td>93.3800</td>\n",
       "      <td>93.8500</td>\n",
       "      <td>93.5290</td>\n",
       "      <td>0.5033</td>\n",
       "      <td>0.1596</td>\n",
       "    </tr>\n",
       "    <tr>\n",
       "      <th>2</th>\n",
       "      <td>2017-07-06</td>\n",
       "      <td>JWN</td>\n",
       "      <td>47.3800</td>\n",
       "      <td>47.5400</td>\n",
       "      <td>47.5791</td>\n",
       "      <td>0.3377</td>\n",
       "      <td>0.4203</td>\n",
       "    </tr>\n",
       "  </tbody>\n",
       "</table>\n",
       "</div>"
      ],
      "text/plain": [
       "      date_x  Name  Previous Day  Actual Day  Predictions  Actual Change %  \\\n",
       "0 2017-07-06  JNPR       27.7900     28.4500      27.8911           2.3750   \n",
       "1 2017-07-06   JPM       93.3800     93.8500      93.5290           0.5033   \n",
       "2 2017-07-06   JWN       47.3800     47.5400      47.5791           0.3377   \n",
       "\n",
       "   Predicted Change %  \n",
       "0              0.3638  \n",
       "1              0.1596  \n",
       "2              0.4203  "
      ]
     },
     "execution_count": 30,
     "metadata": {},
     "output_type": "execute_result"
    }
   ],
   "source": [
    "combined.head(3)"
   ]
  },
  {
   "cell_type": "code",
   "execution_count": 31,
   "metadata": {},
   "outputs": [
    {
     "data": {
      "text/html": [
       "<div>\n",
       "<style scoped>\n",
       "    .dataframe tbody tr th:only-of-type {\n",
       "        vertical-align: middle;\n",
       "    }\n",
       "\n",
       "    .dataframe tbody tr th {\n",
       "        vertical-align: top;\n",
       "    }\n",
       "\n",
       "    .dataframe thead th {\n",
       "        text-align: right;\n",
       "    }\n",
       "</style>\n",
       "<table border=\"1\" class=\"dataframe\">\n",
       "  <thead>\n",
       "    <tr style=\"text-align: right;\">\n",
       "      <th></th>\n",
       "      <th>date_x</th>\n",
       "      <th>Name</th>\n",
       "      <th>Previous Day</th>\n",
       "      <th>Actual Day</th>\n",
       "      <th>Predictions</th>\n",
       "      <th>Actual Change %</th>\n",
       "      <th>Predicted Change %</th>\n",
       "      <th>Accuracy</th>\n",
       "    </tr>\n",
       "  </thead>\n",
       "  <tbody>\n",
       "    <tr>\n",
       "      <th>0</th>\n",
       "      <td>2017-07-06</td>\n",
       "      <td>JNPR</td>\n",
       "      <td>27.7900</td>\n",
       "      <td>28.4500</td>\n",
       "      <td>27.8911</td>\n",
       "      <td>2.3750</td>\n",
       "      <td>0.3638</td>\n",
       "      <td>1</td>\n",
       "    </tr>\n",
       "    <tr>\n",
       "      <th>1</th>\n",
       "      <td>2017-07-06</td>\n",
       "      <td>JPM</td>\n",
       "      <td>93.3800</td>\n",
       "      <td>93.8500</td>\n",
       "      <td>93.5290</td>\n",
       "      <td>0.5033</td>\n",
       "      <td>0.1596</td>\n",
       "      <td>1</td>\n",
       "    </tr>\n",
       "    <tr>\n",
       "      <th>2</th>\n",
       "      <td>2017-07-06</td>\n",
       "      <td>JWN</td>\n",
       "      <td>47.3800</td>\n",
       "      <td>47.5400</td>\n",
       "      <td>47.5791</td>\n",
       "      <td>0.3377</td>\n",
       "      <td>0.4203</td>\n",
       "      <td>1</td>\n",
       "    </tr>\n",
       "  </tbody>\n",
       "</table>\n",
       "</div>"
      ],
      "text/plain": [
       "      date_x  Name  Previous Day  Actual Day  Predictions  Actual Change %  \\\n",
       "0 2017-07-06  JNPR       27.7900     28.4500      27.8911           2.3750   \n",
       "1 2017-07-06   JPM       93.3800     93.8500      93.5290           0.5033   \n",
       "2 2017-07-06   JWN       47.3800     47.5400      47.5791           0.3377   \n",
       "\n",
       "   Predicted Change %  Accuracy  \n",
       "0              0.3638         1  \n",
       "1              0.1596         1  \n",
       "2              0.4203         1  "
      ]
     },
     "execution_count": 31,
     "metadata": {},
     "output_type": "execute_result"
    }
   ],
   "source": [
    "# Accuracy Calculation\n",
    "def f(row):\n",
    "    if row['Actual Change %'] > 0 and row['Predicted Change %'] > 0:\n",
    "        val = 1\n",
    "    elif row['Actual Change %'] < 0 and row['Predicted Change %'] < 0:\n",
    "        val = 1\n",
    "    elif row['Actual Change %'] == 0 and row['Predicted Change %'] == 0:\n",
    "        val = 1\n",
    "    else:\n",
    "        val = 0\n",
    "    return val\n",
    "combined['Accuracy'] =combined.apply(f, axis=1)\n",
    "combined.head(3)"
   ]
  },
  {
   "cell_type": "code",
   "execution_count": 32,
   "metadata": {},
   "outputs": [],
   "source": [
    "#Accuracy Rate\n",
    "ac = combined['Accuracy'].sum() / combined['Accuracy'].count()\n",
    "\n",
    "#Accuracy Rate for top 10\n",
    "combined10 = combined.sort_values(by = 'Predicted Change %',ascending=False).iloc[0:10,:]\n",
    "ac_10 = combined10['Accuracy'].sum() / combined10['Accuracy'].count()\n",
    "\n",
    "#Accuracy Rate for top 5\n",
    "combined5 = combined.sort_values(by = 'Predicted Change %',ascending=False).iloc[0:5,:]\n",
    "ac_5 = combined5['Accuracy'].sum() / combined5['Accuracy'].count()\n",
    "\n",
    "#Avg. Absolute Varience\n",
    "Varience = abs(combined[\"Actual Change %\"] - combined[\"Predicted Change %\"])\n",
    "combined[\"Absolute Varience\"] = Varience\n",
    "varience = combined['Absolute Varience'].sum() / combined['Accuracy'].count()"
   ]
  },
  {
   "cell_type": "code",
   "execution_count": 33,
   "metadata": {},
   "outputs": [],
   "source": [
    "train_day_count = train_size\n",
    "predict_day_count = test_size\n",
    "end_date = target_prediction_day"
   ]
  },
  {
   "cell_type": "code",
   "execution_count": 34,
   "metadata": {},
   "outputs": [
    {
     "data": {
      "text/html": [
       "<div>\n",
       "<style scoped>\n",
       "    .dataframe tbody tr th:only-of-type {\n",
       "        vertical-align: middle;\n",
       "    }\n",
       "\n",
       "    .dataframe tbody tr th {\n",
       "        vertical-align: top;\n",
       "    }\n",
       "\n",
       "    .dataframe thead th {\n",
       "        text-align: right;\n",
       "    }\n",
       "</style>\n",
       "<table border=\"1\" class=\"dataframe\">\n",
       "  <thead>\n",
       "    <tr style=\"text-align: right;\">\n",
       "      <th></th>\n",
       "      <th>Metric</th>\n",
       "      <th>Value</th>\n",
       "    </tr>\n",
       "  </thead>\n",
       "  <tbody>\n",
       "    <tr>\n",
       "      <th>0</th>\n",
       "      <td>Total Stock Processed</td>\n",
       "      <td>50</td>\n",
       "    </tr>\n",
       "    <tr>\n",
       "      <th>1</th>\n",
       "      <td>Train Day</td>\n",
       "      <td>404</td>\n",
       "    </tr>\n",
       "    <tr>\n",
       "      <th>2</th>\n",
       "      <td>Test Day</td>\n",
       "      <td>102</td>\n",
       "    </tr>\n",
       "    <tr>\n",
       "      <th>3</th>\n",
       "      <td>Predicted Date</td>\n",
       "      <td>2017-07-07</td>\n",
       "    </tr>\n",
       "    <tr>\n",
       "      <th>4</th>\n",
       "      <td>Avg. Varience</td>\n",
       "      <td>1.1600</td>\n",
       "    </tr>\n",
       "    <tr>\n",
       "      <th>5</th>\n",
       "      <td>Accuracy% Total</td>\n",
       "      <td>78.0000</td>\n",
       "    </tr>\n",
       "  </tbody>\n",
       "</table>\n",
       "</div>"
      ],
      "text/plain": [
       "                  Metric       Value\n",
       "0  Total Stock Processed          50\n",
       "1              Train Day         404\n",
       "2               Test Day         102\n",
       "3         Predicted Date  2017-07-07\n",
       "4          Avg. Varience      1.1600\n",
       "5        Accuracy% Total     78.0000"
      ]
     },
     "execution_count": 34,
     "metadata": {},
     "output_type": "execute_result"
    }
   ],
   "source": [
    "# Summary Performance Table\n",
    "Results_col = pd.DataFrame([\"Total Stock Processed\",\"Train Day\",\"Test Day\",\"Predicted Date\",\"Avg. Varience\",\"Accuracy% Total\"])\n",
    "Results_col = Results_col.rename(columns={0: \"Metric\"})\n",
    "Results_val = pd.DataFrame([upper,train_day_count,predict_day_count,end_date,varience,ac*100])\n",
    "Results_val = Results_val.rename(columns={0: \"Value\"})\n",
    "Results =  pd.concat([Results_col, Results_val], axis=1, sort=False)\n",
    "Results"
   ]
  },
  {
   "cell_type": "markdown",
   "metadata": {},
   "source": [
    "### MY MODEL PREDICTED WITH 78% ACCURACY!\n",
    "### The performance could be further increased via parameter tuning!"
   ]
  }
 ],
 "metadata": {
  "kernelspec": {
   "display_name": "Python 3",
   "language": "python",
   "name": "python3"
  },
  "language_info": {
   "codemirror_mode": {
    "name": "ipython",
    "version": 3
   },
   "file_extension": ".py",
   "mimetype": "text/x-python",
   "name": "python",
   "nbconvert_exporter": "python",
   "pygments_lexer": "ipython3",
   "version": "3.7.6"
  }
 },
 "nbformat": 4,
 "nbformat_minor": 4
}
